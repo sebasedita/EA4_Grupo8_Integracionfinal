{
  "nbformat": 4,
  "nbformat_minor": 0,
  "metadata": {
    "colab": {
      "provenance": [],
      "authorship_tag": "ABX9TyPr93CIyUkhgpJ0MFx/AdUD",
      "include_colab_link": true
    },
    "kernelspec": {
      "name": "python3",
      "display_name": "Python 3"
    },
    "language_info": {
      "name": "python"
    }
  },
  "cells": [
    {
      "cell_type": "markdown",
      "metadata": {
        "id": "view-in-github",
        "colab_type": "text"
      },
      "source": [
        "<a href=\"https://colab.research.google.com/github/sebasedita/EA4_Grupo8_Integracionfinal/blob/main/Programaci%C3%B3n_para_An%C3%A1lisis_de_Datos2.ipynb\" target=\"_parent\"><img src=\"https://colab.research.google.com/assets/colab-badge.svg\" alt=\"Open In Colab\"/></a>"
      ]
    },
    {
      "cell_type": "code",
      "execution_count": 1,
      "metadata": {
        "colab": {
          "base_uri": "https://localhost:8080/"
        },
        "id": "3kbPC4ReL7PF",
        "outputId": "dcdc54a4-6c76-46c7-c595-e685e733333d"
      },
      "outputs": [
        {
          "output_type": "stream",
          "name": "stdout",
          "text": [
            "Requirement already satisfied: selenium in /usr/local/lib/python3.10/dist-packages (4.27.1)\n",
            "Requirement already satisfied: urllib3<3,>=1.26 in /usr/local/lib/python3.10/dist-packages (from urllib3[socks]<3,>=1.26->selenium) (2.2.3)\n",
            "Requirement already satisfied: trio~=0.17 in /usr/local/lib/python3.10/dist-packages (from selenium) (0.27.0)\n",
            "Requirement already satisfied: trio-websocket~=0.9 in /usr/local/lib/python3.10/dist-packages (from selenium) (0.11.1)\n",
            "Requirement already satisfied: certifi>=2021.10.8 in /usr/local/lib/python3.10/dist-packages (from selenium) (2024.8.30)\n",
            "Requirement already satisfied: typing_extensions~=4.9 in /usr/local/lib/python3.10/dist-packages (from selenium) (4.12.2)\n",
            "Requirement already satisfied: websocket-client~=1.8 in /usr/local/lib/python3.10/dist-packages (from selenium) (1.8.0)\n",
            "Requirement already satisfied: attrs>=23.2.0 in /usr/local/lib/python3.10/dist-packages (from trio~=0.17->selenium) (24.2.0)\n",
            "Requirement already satisfied: sortedcontainers in /usr/local/lib/python3.10/dist-packages (from trio~=0.17->selenium) (2.4.0)\n",
            "Requirement already satisfied: idna in /usr/local/lib/python3.10/dist-packages (from trio~=0.17->selenium) (3.10)\n",
            "Requirement already satisfied: outcome in /usr/local/lib/python3.10/dist-packages (from trio~=0.17->selenium) (1.3.0.post0)\n",
            "Requirement already satisfied: sniffio>=1.3.0 in /usr/local/lib/python3.10/dist-packages (from trio~=0.17->selenium) (1.3.1)\n",
            "Requirement already satisfied: exceptiongroup in /usr/local/lib/python3.10/dist-packages (from trio~=0.17->selenium) (1.2.2)\n",
            "Requirement already satisfied: wsproto>=0.14 in /usr/local/lib/python3.10/dist-packages (from trio-websocket~=0.9->selenium) (1.2.0)\n",
            "Requirement already satisfied: pysocks!=1.5.7,<2.0,>=1.5.6 in /usr/local/lib/python3.10/dist-packages (from urllib3[socks]<3,>=1.26->selenium) (1.7.1)\n",
            "Requirement already satisfied: h11<1,>=0.9.0 in /usr/local/lib/python3.10/dist-packages (from wsproto>=0.14->trio-websocket~=0.9->selenium) (0.14.0)\n",
            "Requirement already satisfied: beautifulsoup4 in /usr/local/lib/python3.10/dist-packages (4.12.3)\n",
            "Requirement already satisfied: soupsieve>1.2 in /usr/local/lib/python3.10/dist-packages (from beautifulsoup4) (2.6)\n",
            "Requirement already satisfied: scrapy in /usr/local/lib/python3.10/dist-packages (2.12.0)\n",
            "Requirement already satisfied: Twisted>=21.7.0 in /usr/local/lib/python3.10/dist-packages (from scrapy) (24.11.0)\n",
            "Requirement already satisfied: cryptography>=37.0.0 in /usr/local/lib/python3.10/dist-packages (from scrapy) (43.0.3)\n",
            "Requirement already satisfied: cssselect>=0.9.1 in /usr/local/lib/python3.10/dist-packages (from scrapy) (1.2.0)\n",
            "Requirement already satisfied: itemloaders>=1.0.1 in /usr/local/lib/python3.10/dist-packages (from scrapy) (1.3.2)\n",
            "Requirement already satisfied: parsel>=1.5.0 in /usr/local/lib/python3.10/dist-packages (from scrapy) (1.9.1)\n",
            "Requirement already satisfied: pyOpenSSL>=22.0.0 in /usr/local/lib/python3.10/dist-packages (from scrapy) (24.2.1)\n",
            "Requirement already satisfied: queuelib>=1.4.2 in /usr/local/lib/python3.10/dist-packages (from scrapy) (1.7.0)\n",
            "Requirement already satisfied: service-identity>=18.1.0 in /usr/local/lib/python3.10/dist-packages (from scrapy) (24.2.0)\n",
            "Requirement already satisfied: w3lib>=1.17.0 in /usr/local/lib/python3.10/dist-packages (from scrapy) (2.2.1)\n",
            "Requirement already satisfied: zope.interface>=5.1.0 in /usr/local/lib/python3.10/dist-packages (from scrapy) (7.2)\n",
            "Requirement already satisfied: protego>=0.1.15 in /usr/local/lib/python3.10/dist-packages (from scrapy) (0.3.1)\n",
            "Requirement already satisfied: itemadapter>=0.1.0 in /usr/local/lib/python3.10/dist-packages (from scrapy) (0.10.0)\n",
            "Requirement already satisfied: packaging in /usr/local/lib/python3.10/dist-packages (from scrapy) (24.2)\n",
            "Requirement already satisfied: tldextract in /usr/local/lib/python3.10/dist-packages (from scrapy) (5.1.3)\n",
            "Requirement already satisfied: lxml>=4.6.0 in /usr/local/lib/python3.10/dist-packages (from scrapy) (5.3.0)\n",
            "Requirement already satisfied: defusedxml>=0.7.1 in /usr/local/lib/python3.10/dist-packages (from scrapy) (0.7.1)\n",
            "Requirement already satisfied: PyDispatcher>=2.0.5 in /usr/local/lib/python3.10/dist-packages (from scrapy) (2.0.7)\n",
            "Requirement already satisfied: cffi>=1.12 in /usr/local/lib/python3.10/dist-packages (from cryptography>=37.0.0->scrapy) (1.17.1)\n",
            "Requirement already satisfied: jmespath>=0.9.5 in /usr/local/lib/python3.10/dist-packages (from itemloaders>=1.0.1->scrapy) (1.0.1)\n",
            "Requirement already satisfied: attrs>=19.1.0 in /usr/local/lib/python3.10/dist-packages (from service-identity>=18.1.0->scrapy) (24.2.0)\n",
            "Requirement already satisfied: pyasn1 in /usr/local/lib/python3.10/dist-packages (from service-identity>=18.1.0->scrapy) (0.6.1)\n",
            "Requirement already satisfied: pyasn1-modules in /usr/local/lib/python3.10/dist-packages (from service-identity>=18.1.0->scrapy) (0.4.1)\n",
            "Requirement already satisfied: automat>=24.8.0 in /usr/local/lib/python3.10/dist-packages (from Twisted>=21.7.0->scrapy) (24.8.1)\n",
            "Requirement already satisfied: constantly>=15.1 in /usr/local/lib/python3.10/dist-packages (from Twisted>=21.7.0->scrapy) (23.10.4)\n",
            "Requirement already satisfied: hyperlink>=17.1.1 in /usr/local/lib/python3.10/dist-packages (from Twisted>=21.7.0->scrapy) (21.0.0)\n",
            "Requirement already satisfied: incremental>=24.7.0 in /usr/local/lib/python3.10/dist-packages (from Twisted>=21.7.0->scrapy) (24.7.2)\n",
            "Requirement already satisfied: typing-extensions>=4.2.0 in /usr/local/lib/python3.10/dist-packages (from Twisted>=21.7.0->scrapy) (4.12.2)\n",
            "Requirement already satisfied: setuptools in /usr/local/lib/python3.10/dist-packages (from zope.interface>=5.1.0->scrapy) (75.1.0)\n",
            "Requirement already satisfied: idna in /usr/local/lib/python3.10/dist-packages (from tldextract->scrapy) (3.10)\n",
            "Requirement already satisfied: requests>=2.1.0 in /usr/local/lib/python3.10/dist-packages (from tldextract->scrapy) (2.32.3)\n",
            "Requirement already satisfied: requests-file>=1.4 in /usr/local/lib/python3.10/dist-packages (from tldextract->scrapy) (2.1.0)\n",
            "Requirement already satisfied: filelock>=3.0.8 in /usr/local/lib/python3.10/dist-packages (from tldextract->scrapy) (3.16.1)\n",
            "Requirement already satisfied: pycparser in /usr/local/lib/python3.10/dist-packages (from cffi>=1.12->cryptography>=37.0.0->scrapy) (2.22)\n",
            "Requirement already satisfied: tomli in /usr/local/lib/python3.10/dist-packages (from incremental>=24.7.0->Twisted>=21.7.0->scrapy) (2.1.0)\n",
            "Requirement already satisfied: charset-normalizer<4,>=2 in /usr/local/lib/python3.10/dist-packages (from requests>=2.1.0->tldextract->scrapy) (3.4.0)\n",
            "Requirement already satisfied: urllib3<3,>=1.21.1 in /usr/local/lib/python3.10/dist-packages (from requests>=2.1.0->tldextract->scrapy) (2.2.3)\n",
            "Requirement already satisfied: certifi>=2017.4.17 in /usr/local/lib/python3.10/dist-packages (from requests>=2.1.0->tldextract->scrapy) (2024.8.30)\n",
            "Hit:1 http://security.ubuntu.com/ubuntu jammy-security InRelease\n",
            "Hit:2 https://cloud.r-project.org/bin/linux/ubuntu jammy-cran40/ InRelease\n",
            "Hit:3 https://developer.download.nvidia.com/compute/cuda/repos/ubuntu2204/x86_64  InRelease\n",
            "Hit:4 http://archive.ubuntu.com/ubuntu jammy InRelease\n",
            "Hit:5 http://archive.ubuntu.com/ubuntu jammy-updates InRelease\n",
            "Hit:6 http://archive.ubuntu.com/ubuntu jammy-backports InRelease\n",
            "Hit:7 https://r2u.stat.illinois.edu/ubuntu jammy InRelease\n",
            "Hit:8 https://ppa.launchpadcontent.net/deadsnakes/ppa/ubuntu jammy InRelease\n",
            "Hit:9 https://ppa.launchpadcontent.net/graphics-drivers/ppa/ubuntu jammy InRelease\n",
            "Hit:10 https://ppa.launchpadcontent.net/ubuntugis/ppa/ubuntu jammy InRelease\n",
            "Reading package lists... Done\n",
            "W: Skipping acquire of configured file 'main/source/Sources' as repository 'https://r2u.stat.illinois.edu/ubuntu jammy InRelease' does not seem to provide it (sources.list entry misspelt?)\n",
            "Reading package lists... Done\n",
            "Building dependency tree... Done\n",
            "Reading state information... Done\n",
            "git is already the newest version (1:2.34.1-1ubuntu1.11).\n",
            "0 upgraded, 0 newly installed, 0 to remove and 49 not upgraded.\n"
          ]
        }
      ],
      "source": [
        "!pip install selenium\n",
        "!pip install beautifulsoup4\n",
        "!pip install scrapy\n",
        "!apt-get update -y && apt-get install git -y"
      ]
    },
    {
      "cell_type": "code",
      "source": [
        "# Instala las dependencias necesarias\n",
        "!apt-get update\n",
        "!apt-get install -y chromium-browser chromium-chromedriver\n",
        "!chromium-browser --version\n",
        "!chromedriver --version\n",
        "\n",
        "# Configuración de variables de entorno\n",
        "import os\n",
        "os.environ[\"PATH\"] += \":/usr/lib/chromium-browser/\""
      ],
      "metadata": {
        "colab": {
          "base_uri": "https://localhost:8080/"
        },
        "id": "wVXO47FXMMO4",
        "outputId": "4fde948e-5f3a-422b-9365-abc02f0bfa86"
      },
      "execution_count": 2,
      "outputs": [
        {
          "output_type": "stream",
          "name": "stdout",
          "text": [
            "\r0% [Working]\r            \rHit:1 http://archive.ubuntu.com/ubuntu jammy InRelease\n",
            "\r0% [Waiting for headers] [Connecting to security.ubuntu.com (185.125.190.83)] [Connected to cloud.r-\r                                                                                                    \rHit:2 http://archive.ubuntu.com/ubuntu jammy-updates InRelease\n",
            "Hit:3 http://archive.ubuntu.com/ubuntu jammy-backports InRelease\n",
            "Hit:4 https://cloud.r-project.org/bin/linux/ubuntu jammy-cran40/ InRelease\n",
            "Hit:5 http://security.ubuntu.com/ubuntu jammy-security InRelease\n",
            "Hit:6 https://developer.download.nvidia.com/compute/cuda/repos/ubuntu2204/x86_64  InRelease\n",
            "Hit:7 https://r2u.stat.illinois.edu/ubuntu jammy InRelease\n",
            "Hit:8 https://ppa.launchpadcontent.net/deadsnakes/ppa/ubuntu jammy InRelease\n",
            "Hit:9 https://ppa.launchpadcontent.net/graphics-drivers/ppa/ubuntu jammy InRelease\n",
            "Hit:10 https://ppa.launchpadcontent.net/ubuntugis/ppa/ubuntu jammy InRelease\n",
            "Reading package lists... Done\n",
            "W: Skipping acquire of configured file 'main/source/Sources' as repository 'https://r2u.stat.illinois.edu/ubuntu jammy InRelease' does not seem to provide it (sources.list entry misspelt?)\n",
            "Reading package lists... Done\n",
            "Building dependency tree... Done\n",
            "Reading state information... Done\n",
            "chromium-browser is already the newest version (1:85.0.4183.83-0ubuntu2.22.04.1).\n",
            "chromium-chromedriver is already the newest version (1:85.0.4183.83-0ubuntu2.22.04.1).\n",
            "0 upgraded, 0 newly installed, 0 to remove and 49 not upgraded.\n",
            "\n",
            "Command '/usr/bin/chromium-browser' requires the chromium snap to be installed.\n",
            "Please install it with:\n",
            "\n",
            "snap install chromium\n",
            "\n",
            "\n",
            "Command '/usr/bin/chromedriver' requires the chromium snap to be installed.\n",
            "Please install it with:\n",
            "\n",
            "snap install chromium\n",
            "\n"
          ]
        }
      ]
    },
    {
      "cell_type": "code",
      "source": [
        "from selenium import webdriver\n",
        "from selenium.webdriver.common.by import By\n",
        "from selenium.webdriver.support.ui import WebDriverWait\n",
        "from selenium.webdriver.support import expected_conditions as EC\n",
        "from bs4 import BeautifulSoup\n",
        "import time\n",
        "\n",
        "# Configurar opciones de Chrome en modo headless\n",
        "chrome_options = webdriver.ChromeOptions()\n",
        "chrome_options.add_argument(\"--headless\")  # Ejecutar en modo headless para no mostrar la interfaz\n",
        "chrome_options.add_argument(\"--no-sandbox\")\n",
        "chrome_options.add_argument(\"--disable-dev-shm-usage\")\n",
        "chrome_options.add_argument(\"user-agent=Mozilla/5.0 (Windows NT 10.0; Win64; x64) AppleWebKit/537.36 (KHTML, like Gecko) Chrome/91.0.4472.124 Safari/537.36\")\n",
        "\n",
        "# Inicializar el WebDriver\n",
        "driver = webdriver.Chrome(options=chrome_options)\n",
        "\n",
        "# URL del producto en Amazon\n",
        "url_producto = \"https://www.amazon.com/-/es/EMOPET-Desk-Robot-Companion-personalidad/dp/B0DG8JPL6J\"\n",
        "driver.get(url_producto)\n",
        "\n",
        "# Esperar hasta que el nombre del producto esté presente en la página\n",
        "try:\n",
        "    # Esperar el título del producto\n",
        "    nombre_element = WebDriverWait(driver, 10).until(\n",
        "        EC.presence_of_element_located((By.ID, \"productTitle\"))\n",
        "    )\n",
        "\n",
        "    # Obtener el HTML de la página\n",
        "    page_html = driver.page_source\n",
        "    soup = BeautifulSoup(page_html, \"html.parser\")\n",
        "\n",
        "    # Extraer el nombre del producto\n",
        "    nombre = soup.find(\"span\", id=\"productTitle\").get_text(strip=True)\n",
        "\n",
        "    # Extraer el precio del producto\n",
        "    precio_element = soup.find(\"span\", class_=\"a-offscreen\")\n",
        "    precio = precio_element.get_text(strip=True) if precio_element else \"No disponible\"\n",
        "\n",
        "    # Extraer la descripción breve del producto\n",
        "    descripcion_element = soup.find(\"div\", id=\"feature-bullets\")\n",
        "    descripcion = descripcion_element.get_text(strip=True) if descripcion_element else \"No disponible\"\n",
        "\n",
        "    # Extraer las calificaciones\n",
        "    calificaciones_element = soup.find(\"span\", class_=\"a-icon-alt\")\n",
        "    calificaciones = calificaciones_element.get_text(strip=True) if calificaciones_element else \"No disponible\"\n",
        "\n",
        "    # Extraer el vendedor\n",
        "    vendido_por_element = soup.find(\"a\", id=\"bylineInfo\")\n",
        "    vendido_por = vendido_por_element.get_text(strip=True) if vendido_por_element else \"No disponible\"\n",
        "\n",
        "    # Extraer el fabricante (buscando en detalles del producto)\n",
        "    detalles_producto = soup.find(\"div\", id=\"detailBulletsWrapper_feature_div\")\n",
        "    fabricante = \"No disponible\"\n",
        "    if detalles_producto:\n",
        "        for li in detalles_producto.find_all(\"li\"):\n",
        "            if \"Fabricante\" in li.get_text(strip=True):\n",
        "                fabricante = li.get_text(strip=True).replace(\"Fabricante:\", \"\").strip()\n",
        "                break\n",
        "\n",
        "    # Imprimir los datos del producto\n",
        "    print(\"Nombre del producto:\", nombre)\n",
        "    print(\"Precio:\", precio)\n",
        "    print(\"Descripción:\", descripcion)\n",
        "    print(\"Calificaciones:\", calificaciones)\n",
        "    print(\"Vendido por:\", vendido_por)\n",
        "    print(\"Fabricante:\", fabricante)\n",
        "\n",
        "except Exception as e:\n",
        "    print(\"Error al extraer información:\", e)\n",
        "\n",
        "# Cerrar el navegador\n",
        "driver.quit()\n"
      ],
      "metadata": {
        "colab": {
          "base_uri": "https://localhost:8080/"
        },
        "id": "wR03cgm2MXd8",
        "outputId": "5036e409-310a-4003-b6c4-6379709d050f"
      },
      "execution_count": 3,
      "outputs": [
        {
          "output_type": "stream",
          "name": "stdout",
          "text": [
            "Nombre del producto: AI Desk Robot Companion - ChatGPT habilitado con comandos de voz y función de baile, robot interactivo para mascotas con personalidad, viene con estación de carga para el hogar\n",
            "Precio: Eilik Silver - Juguetes de escritorio interactivos táctiles, lindas mascotas robot con emociones abundantes. Animaciones divertidas y minijuegos, regalos de cumpleaños para niñas y niños.\n",
            "Descripción: Sobre este artículoConoce a EMO, tu nuevo compañero de escritorio: saluda a EMO, el robot de escritorio definitivo que está aquí para animar tu espacio de trabajo. Con el modelo de IA incorporado y la cámara gran angular, puede verte, escucharte y entenderte, al igual que una mascota realComandos de voz habilitados: el robot EMO viene con una serie de comandos de voz integrados, puedes hablar y jugar con EMO como con una mascota real. Y con la capacidad de conectarse a la red y con tecnología de ChatGPT, puede tener conversaciones más complejas con EMO como hablar con un amigo experto en tecnología que siempre está dispuesto a chatear. Nota: el volumen de EMO es ajustable a través de la aplicación EMOPETFiesta de baile y tiempo de juego: ¡EMO está listo para la fiesta! Simplemente sube tus canciones favoritas y dile a EMO que baile contigo, será tu compañero de fiesta perfecto para el escritorio. Además, EMO admite conectarse a la aplicación EMO para una variedad de juegos y actividades interactivas. Ya sea que estés solo o con amigos, EMO garantiza que siempre estés entretenidoDiversión sin fin: el robot EMO cuenta con múltiples sensores integrados para traer más interacciones contigo, puedes frotarlo, sacudirlo e incluso \"disparar\" con el gesto de los dedos, haciendo que se sienta como si estuvieras jugando con una mascota real. Incluso se \"enferma\" con los cambios climáticos, por lo que puedes cuidarlo como lo harías con un amigo peludoEstación de carga automática para el hogar: la EMO GO HOME viene con una estación de carga que garantiza que el robot EMO siempre esté encendido para traer alegría a ti y a tu familia. EMO encontrará automáticamente la estación de carga a través de su cámara AI y sistema de sensores, ¡totalmente manos libres! También viene con una valla para el hogar para mantener la EMO en el área fija mientras puedes concentrarte en tus cosas sin preocuparte en absolutoDisfruta de cada momento con EMO: con la aplicación EMOPET tiene un sistema de logros único que ayuda a registrar todos los momentos grandes y pequeños que has pasado con EMO, como nuevos movimientos de baile, una nueva expresión, celebración de tu cumpleaños y más... Disfruta de todos los eventos de la vida con tu nuevo mejor amigoElección de regalo perfecta: ¿Buscas un regalo excepcional? El robot EMO es una opción destacada con sus características inteligentes y diversión sin fin. Perfecto para entusiastas de la tecnología, adultos o niños, este robot de escritorio interactivo ofrece una mezcla única de entretenimiento y conexión emocional. Seguro que traerá sonrisas y alegría a cualquier ocasión›Ver los detalles del producto\n",
            "Calificaciones: 4.0 de 5 estrellas\n",
            "Vendido por: Visita la tienda de EMOPET\n",
            "Fabricante: No disponible\n"
          ]
        }
      ]
    }
  ]
}